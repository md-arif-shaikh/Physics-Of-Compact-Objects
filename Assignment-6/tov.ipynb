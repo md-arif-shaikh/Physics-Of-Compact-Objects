{
 "cells": [
  {
   "cell_type": "code",
   "execution_count": 2,
   "id": "incident-information",
   "metadata": {},
   "outputs": [],
   "source": [
    "import numpy as np\n",
    "import matplotlib.pyplot as plt\n",
    "from scipy.interpolate import interp1d\n",
    "from scipy.integrate import solve_ivp\n",
    "from lal import MSUN_SI, C_SI, G_SI"
   ]
  },
  {
   "cell_type": "markdown",
   "id": "personalized-runner",
   "metadata": {},
   "source": [
    "# Choice of units $c=G=M_\\odot=1$\n",
    "\n",
    "A convenient choice of units to work with is $c=G=M_\\odot=1$. To covert cgs units to this and vice-versa is given [here](https://www.icts.res.in/sites/default/files/gws2017-Hinderer-Tutorial4.pdf) in the appendix"
   ]
  },
  {
   "cell_type": "code",
   "execution_count": 3,
   "id": "broadband-masters",
   "metadata": {},
   "outputs": [],
   "source": [
    "Msun = MSUN_SI * 1e3\n",
    "C = C_SI * 1e2\n",
    "G = G_SI * 1e6 / 1e3"
   ]
  },
  {
   "cell_type": "markdown",
   "id": "occasional-great",
   "metadata": {},
   "source": [
    "### Conversion from cgs to $c=G=M_\\odot=1$\n",
    "\n",
    "The starred values are in $c=G=M_\\odot=1$ which corresponds to the non-starred values in cgs uints\n",
    "$$d^\\star = d/M^\\star_\\odot$$\n",
    "$$\\rho^\\star = \\rho G {M^\\star}^2/c^2$$\n",
    "$$p^\\star = p G {M^\\star}^2/c^4$$\n",
    "\n",
    "where $M_\\odot^\\star = G M_\\odot/c^2$ is the mass of sun in geometrized units $c=G=1$."
   ]
  },
  {
   "cell_type": "code",
   "execution_count": 4,
   "id": "progressive-universal",
   "metadata": {},
   "outputs": [],
   "source": [
    "msun_geom = G * Msun/C**2\n",
    "length_factor = 1/msun_geom\n",
    "density_factor = G * msun_geom**2/C**2\n",
    "pressure_factor = density_factor/C**2"
   ]
  },
  {
   "cell_type": "markdown",
   "id": "compact-location",
   "metadata": {},
   "source": [
    "# Downlaod and load data for equation of state\n",
    "\n",
    "For an example we will use the \"SLy\" equation of state. Tabulated data could be found [here](http://www.ioffe.ru/astro/NSG/NSEOS/sly4.dat). the last two columns are the density and pressure in cgs units."
   ]
  },
  {
   "cell_type": "code",
   "execution_count": 5,
   "id": "swiss-judge",
   "metadata": {},
   "outputs": [],
   "source": [
    "#!wget http://www.ioffe.ru/astro/NSG/NSEOS/sly4.dat"
   ]
  },
  {
   "cell_type": "code",
   "execution_count": 6,
   "id": "equal-wisdom",
   "metadata": {},
   "outputs": [],
   "source": [
    "rho, p = np.loadtxt(\"sly4.dat\", usecols=(2,3), unpack=True)\n",
    "rho = rho * density_factor  # we have to convert the units from cgs to $c=G=M_\\odot=1$\n",
    "p = p * pressure_factor  # similarly convert units"
   ]
  },
  {
   "cell_type": "code",
   "execution_count": 7,
   "id": "wanted-special",
   "metadata": {},
   "outputs": [
    {
     "data": {
      "text/plain": [
       "[<matplotlib.lines.Line2D at 0x7f24ffe0a910>]"
      ]
     },
     "execution_count": 7,
     "metadata": {},
     "output_type": "execute_result"
    },
    {
     "data": {
      "image/png": "[encoded data removed]",
      "text/plain": [
       "<Figure size 432x288 with 1 Axes>"
      ]
     },
     "metadata": {
      "needs_background": "light"
     },
     "output_type": "display_data"
    }
   ],
   "source": [
    "plt.plot(rho, p)"
   ]
  },
  {
   "cell_type": "markdown",
   "id": "attended-share",
   "metadata": {},
   "source": [
    "## Interpolate the denisty and pressure "
   ]
  },
  {
   "cell_type": "code",
   "execution_count": 8,
   "id": "regulated-finding",
   "metadata": {},
   "outputs": [],
   "source": [
    "logrho_interp = interp1d(np.log(p), np.log(rho), kind=\"cubic\", fill_value=\"extrapolate\")  # since the order varies a lot we interpolate in logspace\n",
    "logp_interp = interp1d(np.log(rho), np.log(p), kind=\"cubic\", fill_value=\"extrpolate\")\n",
    "def p_interp(rho):\n",
    "    return np.exp(logp_interp(np.log(abs(rho))))\n",
    "def rho_interp(p):\n",
    "    return np.exp(logrho_interp(np.log(abs(p))))"
   ]
  },
  {
   "cell_type": "code",
   "execution_count": 9,
   "id": "stuffed-channels",
   "metadata": {},
   "outputs": [
    {
     "data": {
      "text/plain": [
       "[<matplotlib.lines.Line2D at 0x7f24ffd28a90>]"
      ]
     },
     "execution_count": 9,
     "metadata": {},
     "output_type": "execute_result"
    },
    {
     "data": {
      "image/png": "[encoded data removed]",
      "text/plain": [
       "<Figure size 432x288 with 1 Axes>"
      ]
     },
     "metadata": {
      "needs_background": "light"
     },
     "output_type": "display_data"
    }
   ],
   "source": [
    "plt.plot(rho, p_interp(rho))"
   ]
  },
  {
   "cell_type": "markdown",
   "id": "awful-forty",
   "metadata": {},
   "source": [
    "# Solve TOV"
   ]
  },
  {
   "cell_type": "markdown",
   "id": "second-order",
   "metadata": {},
   "source": [
    "## Define the TOV odes "
   ]
  },
  {
   "cell_type": "code",
   "execution_count": 10,
   "id": "married-research",
   "metadata": {},
   "outputs": [],
   "source": [
    "def tov(r, y):\n",
    "    m, p = y\n",
    "    rho = rho_interp(p)\n",
    "    dpdr = ((m + 4 * np.pi * r**3 * p)\n",
    "            * (rho + p)\n",
    "            / (r * (2 * m - r)))\n",
    "    dmdr = 4 * np.pi * rho * r**2\n",
    "    return [dmdr, dpdr]"
   ]
  },
  {
   "cell_type": "markdown",
   "id": "radio-browser",
   "metadata": {},
   "source": [
    "## Prescribe our events for the solver\n",
    "We want to find where pressure hits zero which represents the surface of the star."
   ]
  },
  {
   "cell_type": "code",
   "execution_count": 11,
   "id": "fresh-midnight",
   "metadata": {},
   "outputs": [],
   "source": [
    "def hit_surface(r, y):\n",
    "    return y[1]\n",
    "\n",
    "hit_surface.terminal = True"
   ]
  },
  {
   "cell_type": "code",
   "execution_count": 12,
   "id": "reserved-affair",
   "metadata": {},
   "outputs": [],
   "source": [
    "rhoc = 1e15 * density_factor  # We choose central density of 1e15 in cgs unit which we then convert to our working units\n",
    "pc = p_interp(rhoc)  # central pressure\n",
    "rmax = 1e9 * length_factor  # We provide upper limit of integration as 1e9 cm, i.e 10000 km which is more than enough\n",
    "rspan = [1e-10, rmax]  # we start from small nonzero value of r\n",
    "r_eval = np.linspace(rspan[0], rspan[-1], 100000)  # radii where we want the solutions"
   ]
  },
  {
   "cell_type": "code",
   "execution_count": 13,
   "id": "equipped-aaron",
   "metadata": {},
   "outputs": [],
   "source": [
    "sol = solve_ivp(tov, rspan, [0, pc], t_eval=r_eval, method=\"Radau\",\n",
    "                events=hit_surface)"
   ]
  },
  {
   "cell_type": "code",
   "execution_count": 14,
   "id": "cooperative-implementation",
   "metadata": {},
   "outputs": [
    {
     "data": {
      "text/plain": [
       "array([7.6484952])"
      ]
     },
     "execution_count": 14,
     "metadata": {},
     "output_type": "execute_result"
    }
   ],
   "source": [
    "sol.t_events[0]"
   ]
  },
  {
   "cell_type": "code",
   "execution_count": 15,
   "id": "pursuant-consequence",
   "metadata": {},
   "outputs": [
    {
     "data": {
      "text/plain": [
       "Text(0, 0.5, 'p')"
      ]
     },
     "execution_count": 15,
     "metadata": {},
     "output_type": "execute_result"
    },
    {
     "data": {
      "image/png": "[encoded data removed]",
      "text/plain": [
       "<Figure size 432x288 with 1 Axes>"
      ]
     },
     "metadata": {
      "needs_background": "light"
     },
     "output_type": "display_data"
    }
   ],
   "source": [
    "plt.semilogy(sol.t, sol.y[1])\n",
    "plt.xlabel(\"r\")\n",
    "plt.ylabel(\"p\")"
   ]
  },
  {
   "cell_type": "code",
   "execution_count": 16,
   "id": "adolescent-walnut",
   "metadata": {},
   "outputs": [
    {
     "data": {
      "text/plain": [
       "Text(0, 0.5, 'rho')"
      ]
     },
     "execution_count": 16,
     "metadata": {},
     "output_type": "execute_result"
    },
    {
     "data": {
      "image/png": "[encoded data removed]",
      "text/plain": [
       "<Figure size 432x288 with 1 Axes>"
      ]
     },
     "metadata": {
      "needs_background": "light"
     },
     "output_type": "display_data"
    }
   ],
   "source": [
    "plt.semilogy(sol.t/length_factor, rho_interp(sol.y[1]) / density_factor)\n",
    "plt.xlabel(\"r\")\n",
    "plt.ylabel(\"rho\")"
   ]
  },
  {
   "cell_type": "code",
   "execution_count": 17,
   "id": "permanent-decision",
   "metadata": {},
   "outputs": [
    {
     "data": {
      "text/plain": [
       "1.9457998200986684e-24"
      ]
     },
     "execution_count": 17,
     "metadata": {},
     "output_type": "execute_result"
    }
   ],
   "source": [
    "p_interp(1e2 * density_factor)"
   ]
  },
  {
   "cell_type": "code",
   "execution_count": 18,
   "id": "wrong-techno",
   "metadata": {},
   "outputs": [
    {
     "data": {
      "text/plain": [
       "[array([[1.42018708e+00, 2.48154184e-23]])]"
      ]
     },
     "execution_count": 18,
     "metadata": {},
     "output_type": "execute_result"
    }
   ],
   "source": [
    "sol.y_events"
   ]
  },
  {
   "cell_type": "code",
   "execution_count": 19,
   "id": "funded-cannon",
   "metadata": {},
   "outputs": [
    {
     "data": {
      "text/plain": [
       "[array([7.6484952])]"
      ]
     },
     "execution_count": 19,
     "metadata": {},
     "output_type": "execute_result"
    }
   ],
   "source": [
    "sol.t_events"
   ]
  },
  {
   "cell_type": "code",
   "execution_count": 20,
   "id": "vocational-disclaimer",
   "metadata": {},
   "outputs": [
    {
     "data": {
      "text/plain": [
       "array([11.2939597])"
      ]
     },
     "execution_count": 20,
     "metadata": {},
     "output_type": "execute_result"
    }
   ],
   "source": [
    "Rstar = (sol.t_events[0]/length_factor)/1e5  # in km\n",
    "Rstar"
   ]
  },
  {
   "cell_type": "code",
   "execution_count": 21,
   "id": "asian-charm",
   "metadata": {},
   "outputs": [
    {
     "data": {
      "text/plain": [
       "1.4201870847868647"
      ]
     },
     "execution_count": 21,
     "metadata": {},
     "output_type": "execute_result"
    }
   ],
   "source": [
    "massfactor = G/(msun_geom * C**2)\n",
    "Mstar = (sol.y_events[0][0][0]/massfactor)/Msun  # in solar mass\n",
    "Mstar"
   ]
  },
  {
   "cell_type": "markdown",
   "id": "homeless-translator",
   "metadata": {},
   "source": [
    "# Vary the central density to get maximum mass and radius for the equation of state"
   ]
  },
  {
   "cell_type": "code",
   "execution_count": 22,
   "id": "lucky-wesley",
   "metadata": {},
   "outputs": [],
   "source": [
    "rhocs = 10**np.linspace(14, np.log10(6.7 * 1e15), 100) * density_factor\n",
    "masses = np.zeros(len(rhocs))\n",
    "radii = np.zeros(len(rhocs))\n",
    "\n",
    "for idx, rhoc in enumerate(rhocs):\n",
    "    pc = p_interp(rhoc)  # central pressure\n",
    "    solution = solve_ivp(tov, rspan, [0, pc], t_eval=r_eval, method=\"Radau\", events=hit_surface)\n",
    "    # print(solution.t_events)\n",
    "    # print(solution.y_events[0][0][0])\n",
    "    masses[idx] = solution.y_events[0][0][0]\n",
    "    radii[idx] = solution.t_events[0]"
   ]
  },
  {
   "cell_type": "code",
   "execution_count": 23,
   "id": "neural-webcam",
   "metadata": {},
   "outputs": [],
   "source": [
    "radii_SI = (radii/length_factor)/1e5  # convert radii to kms"
   ]
  },
  {
   "cell_type": "code",
   "execution_count": 24,
   "id": "empirical-acrylic",
   "metadata": {},
   "outputs": [],
   "source": [
    "masses_MSun = (masses/massfactor)/Msun  # convert mass to solar mass"
   ]
  },
  {
   "cell_type": "code",
   "execution_count": 25,
   "id": "cooperative-promise",
   "metadata": {},
   "outputs": [
    {
     "name": "stdout",
     "output_type": "stream",
     "text": [
      "Maximum mass = 2.0501850461579147, Radius = 9.868783542810185\n"
     ]
    }
   ],
   "source": [
    "MaxMass = max(masses_MSun)\n",
    "maxid = np.argmax(masses_MSun)\n",
    "RstarMaxMass = radii_SI[maxid]\n",
    "print(f\"Maximum mass = {MaxMass}, Radius = {RstarMaxMass}\")"
   ]
  },
  {
   "cell_type": "code",
   "execution_count": 26,
   "id": "empirical-hobby",
   "metadata": {},
   "outputs": [
    {
     "data": {
      "text/plain": [
       "<matplotlib.legend.Legend at 0x7f24ffad28b0>"
      ]
     },
     "execution_count": 26,
     "metadata": {},
     "output_type": "execute_result"
    },
    {
     "data": {
      "image/png": "[encoded data removed]",
      "text/plain": [
       "<Figure size 432x288 with 1 Axes>"
      ]
     },
     "metadata": {
      "needs_background": "light"
     },
     "output_type": "display_data"
    }
   ],
   "source": [
    "plt.scatter(radii_SI, masses_MSun, label=\"SLy\")\n",
    "plt.xlim(8, 20)\n",
    "plt.xlabel(\"radius (km)\")\n",
    "plt.ylabel(\"Mass (MSun)\")\n",
    "plt.legend(loc=\"lower left\")"
   ]
  },
  {
   "cell_type": "markdown",
   "id": "improving-style",
   "metadata": {},
   "source": [
    "## TASK: Find the mass-radius relation for different EOS"
   ]
  },
  {
   "cell_type": "markdown",
   "id": "compound-married",
   "metadata": {},
   "source": [
    "For different equation of states repeat the analysis and make plot showing the mass-radius relation for different equation of states"
   ]
  },
  {
   "cell_type": "code",
   "execution_count": null,
   "id": "backed-quilt",
   "metadata": {},
   "outputs": [],
   "source": []
  }
 ],
 "metadata": {
  "kernelspec": {
   "display_name": "Python 3",
   "language": "python",
   "name": "python3"
  },
  "language_info": {
   "codemirror_mode": {
    "name": "ipython",
    "version": 3
   },
   "file_extension": ".py",
   "mimetype": "text/x-python",
   "name": "python",
   "nbconvert_exporter": "python",
   "pygments_lexer": "ipython3",
   "version": "3.8.6"
  }
 },
 "nbformat": 4,
 "nbformat_minor": 5
}
