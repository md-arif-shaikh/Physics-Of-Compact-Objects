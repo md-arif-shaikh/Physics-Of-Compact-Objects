{
 "cells": [
  {
   "cell_type": "code",
   "execution_count": 1,
   "id": "protecting-injection",
   "metadata": {},
   "outputs": [],
   "source": [
    "import sympy as sp"
   ]
  },
  {
   "cell_type": "code",
   "execution_count": 2,
   "id": "valued-alaska",
   "metadata": {},
   "outputs": [],
   "source": [
    "p, rho, K, rho0 = sp.symbols(\"p rho K rho0\")"
   ]
  },
  {
   "cell_type": "code",
   "execution_count": 3,
   "id": "prospective-mechanics",
   "metadata": {},
   "outputs": [
    {
     "data": {
      "text/latex": [
       "$\\displaystyle \\frac{K \\rho^{\\frac{2}{3}} \\left(5 - 4 \\sqrt[3]{\\frac{\\rho_{0}}{\\rho}}\\right)}{3}$"
      ],
      "text/plain": [
       "K*rho**(2/3)*(5 - 4*(rho0/rho)**(1/3))/3"
      ]
     },
     "execution_count": 3,
     "metadata": {},
     "output_type": "execute_result"
    }
   ],
   "source": [
    "sp.diff(K * rho**sp.Rational(\"5/3\")*(1 - (rho0/rho)**sp.Rational(\"1/3\")), rho).simplify()"
   ]
  },
  {
   "cell_type": "code",
   "execution_count": null,
   "id": "careful-regular",
   "metadata": {},
   "outputs": [],
   "source": []
  }
 ],
 "metadata": {
  "kernelspec": {
   "display_name": "Python 3",
   "language": "python",
   "name": "python3"
  },
  "language_info": {
   "codemirror_mode": {
    "name": "ipython",
    "version": 3
   },
   "file_extension": ".py",
   "mimetype": "text/x-python",
   "name": "python",
   "nbconvert_exporter": "python",
   "pygments_lexer": "ipython3",
   "version": "3.8.6"
  }
 },
 "nbformat": 4,
 "nbformat_minor": 5
}
